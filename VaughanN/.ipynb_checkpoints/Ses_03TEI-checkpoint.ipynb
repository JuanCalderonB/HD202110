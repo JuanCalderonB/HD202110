{
 "cells": [
  {
   "cell_type": "markdown",
   "metadata": {},
   "source": [
    "# Herramientas digitales \n",
    "## Módulo 1: Texto digital (202021)\n",
    "\n",
    "## [Maestría en Humanidades Digitales, Universidad de los Andes](https://posgradosfacartes.uniandes.edu.co/programas/humanidades-digitales/)\n",
    "\n",
    "#### [Nicolás Vaughan](https://posgradosfacartes.uniandes.edu.co/miembro/nicolas-vaughan-caro/)\n",
    "## Sesión 3: Introducción a XML TEI"
   ]
  },
  {
   "cell_type": "markdown",
   "metadata": {},
   "source": [
    "***  "
   ]
  },
  {
   "cell_type": "markdown",
   "metadata": {},
   "source": [
    "## TEI Lite y TEI All\n",
    "\n",
    "### [TEI Lite](https://tei-c.org/release/doc/tei-p5-exemplars/html/tei_lite.doc.html) es el subconjunto de los elementos de TEI más comunes (usados el 90% de los casos)\n",
    "\n",
    "### [TEI All](https://tei-c.org/release/doc/tei-p5-doc/en/html/) contiene todos los elementos de TEI p5.\n",
    "\n",
    "### Documentación\n",
    "  - [Aquí](https://tei-c.org/release/doc/tei-p5-doc/en/html/REF-ELEMENTS.html) está la referencia oficial de todos los elementos de TEI p5.\n",
    "  - [TEI by Example](https://teibyexample.org/)\n",
    "  - [SCTA Encoding Guidelines](http://community.scta.info/pages/docs), para transcripciones diplomáticas y ediciones críticas\n",
    "  - [Epidoc Guidelines](https://epidoc.stoa.org/gl/latest/), para material epigráfico (tabletas, inscripciones, graffiti, etc.)\n",
    "  - [Women Writers Project](https://www.wwp.northeastern.edu/outreach/seminars/event_list.html), tiene excelentes materiales sobre TEI"
   ]
  },
  {
   "cell_type": "markdown",
   "metadata": {},
   "source": [
    "Para empezar, abran el Oxygen XML Editor (el azul) y creen un documento nuevo con esta plantilla:\n",
    "\n",
    "![oxnew](https://raw.githubusercontent.com/nivaca/HD2020-20/master/img/oxnew.png)\n",
    "    \n",
    "    "
   ]
  },
  {
   "cell_type": "markdown",
   "metadata": {},
   "source": [
    "---\n",
    "\n",
    "## Ejercicio 1\n",
    "\n",
    "Examinen la siguiente carta de Jorge Luis Borges:\n",
    "![Postal Borges](https://raw.githubusercontent.com/nivaca/HD202110/main/VaughanN/img/postalborges.jpg)\n",
    "\n",
    "Si tienen dudas con la letra, ayúdense [aquí](https://borgestodoelanio.blogspot.com/2015/07/jorge-luis-borges-postal-leonor-acevedo.html).\n",
    "\n",
    "### ¿Qué elementos de TEI necesitaremos?\n",
    "\n",
    "- Examinen el texto y revisen los *guidelines* de TEI para determinar qué elementos van a usar. Miren especialmente [aquí](https://tei-c.org/release/doc/tei-p5-doc/en/html/DS.html#DSOC). También pueden mirar [aquí](https://www.wwp.northeastern.edu/research/publications/guide/html/letters_outline.html).\n",
    "- Empiecen a transcribir el texto sobre la plantilla que Oxygen generó.\n"
   ]
  },
  {
   "cell_type": "markdown",
   "metadata": {},
   "source": [
    "---\n",
    "\n",
    "## Ejercicio 2\n",
    "\n",
    "Examinen el siguiente examen de un curso de Hannah Arendt:\n",
    "![arendt](https://raw.githubusercontent.com/nivaca/HD202010/master/img/arendt_exam.jpeg)\n",
    "\n",
    "Un PDF con el texto reconocido (¡ojo, seguro contiene errores!) está [aquí](https://raw.githubusercontent.com/nivaca/HD202010/master/img/arendt_exam.pdf).\n",
    "\n",
    "### ¿Qué elementos de TEI necesitaremos?\n",
    "- Examinen el texto y revisen los *guidelines* de TEI para determinar qué elementos van a usar. Miren especialmente [esta parte](https://www.tei-c.org/release/doc/tei-p5-doc/en/html/examples-item.html).\n",
    "- Empiecen a transcribir el texto sobre la plantilla que Oxygen generó."
   ]
  },
  {
   "cell_type": "markdown",
   "metadata": {},
   "source": [
    "---"
   ]
  },
  {
   "cell_type": "markdown",
   "metadata": {},
   "source": [
    "<!--\n",
    "# Tarea 3\n",
    "Teniendo en los parámetros de codificación especificados por los [TEI Guidelines](https://www.tei-c.org/release/doc/tei-p5-doc/en/html/index.html), y usando el esquema de `TEI All` en Oxygen, transcriban y codifiquen lo más completamente posible la *Carta de Jamaica* de Bolívar (disponible en texto plano [aquí](https://raw.githubusercontent.com/nivaca/HD202010/master/otros/carta_rev.txt)). \n",
    "\n",
    "## Deben codificar por lo menos esto:\n",
    "\n",
    "- Párrafos\n",
    "- Nombres de personas y de lugares\n",
    "- Saltos de página (por ejemplo, \"// folio 2 //\" → `<pb n=\"2\"/>`)\n",
    "- Fechas y horas normalizadas\n",
    "- Cifras y números normalizadas (\"2.500\" → `<num value=\"2500\">2.500</num>`)\n",
    "- [Unidades de medida](https://www.tei-c.org/release/doc/tei-p5-doc/en/html/ref-unit.html)\n",
    "- Texto entre comillas (`<q>`) (tengan cuidado de excluir los incisos, e.g., `, dice V. ,`)\n",
    "- Títulos de publicaciones (`<title>`)\n",
    "- Expandir abreviaturas (usando `<choice>`)\n",
    "- Completar lo mejor posible la información del `<teiHeader>`(título, autor, codificador, fuente, fechas, etc.) (cf. [aquí](https://books.openedition.org/oep/691))\n",
    "    - En `<sourceDesc>` incluyan [esta url](https://es.wikisource.org/wiki/Carta_de_Jamaica) dentro de: `<bibl><ref type=\"url\">...</ref></bibl>`\n",
    "- Tengan en cuenta que es una **carta**. Codifiquen sus elementos de acuerdo con ello (cf. [aquí](https://dcs.library.virginia.edu/digital-stewardship-services/tei-encoding-guidelines/#letters)).\n",
    "- El archivo XML debe ser *válido* sintáctica y semánticamente (usen el validador de Oxygen).\n",
    "\n",
    "## Fecha de entrega máxima: *viernes 11 de septiembre a las 4:30 pm*\n",
    "- A mi email ([n.vaughan@uniandes.edu.co](mailto:n.vaughan@uniadnes.edu.co)).\n",
    "- El \"tema\" (subject) del email debe ser `Tarea 3 HD`.\n",
    "- El archivo que deben adjuntar debe llamarse así: `su_apellido_tarea3.xml` (reemplacen `su_apellido` por su apellido).\n",
    "\n",
    "\n",
    "## Recomendaciones\n",
    "1. En muchos casos podrán usar expresiones regulares en Oxygen para optimizar el trabajo de codificación.\n",
    "\n",
    "2. El caracter `&` es un caracter reservado en XML. Tienen que escaparlo usando `&amp;` (vean al respecto [aquí](https://docs.microsoft.com/en-us/visualstudio/msbuild/how-to-use-reserved-xml-characters-in-project-files?view=vs-2019)).\n",
    "\n",
    "3. Un ejemplo de cómo encerrar una palabra (\"Bonaparte\") en un elemento (`<name>`) en Oxygen:\n",
    "![oxg](https://raw.githubusercontent.com/nivaca/HD202010/master/img/regexoxygen.png)\n",
    "-->"
   ]
  },
  {
   "cell_type": "code",
   "execution_count": null,
   "metadata": {},
   "outputs": [],
   "source": []
  }
 ],
 "metadata": {
  "kernelspec": {
   "display_name": "Python 3",
   "language": "python",
   "name": "python3"
  },
  "language_info": {
   "codemirror_mode": {
    "name": "ipython",
    "version": 3
   },
   "file_extension": ".py",
   "mimetype": "text/x-python",
   "name": "python",
   "nbconvert_exporter": "python",
   "pygments_lexer": "ipython3",
   "version": "3.9.1"
  }
 },
 "nbformat": 4,
 "nbformat_minor": 2
}
